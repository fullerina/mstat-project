{
 "cells": [
  {
   "cell_type": "markdown",
   "id": "bdb2aeda",
   "metadata": {},
   "source": [
    "Sample from a determinantal process on $[0,1]$ with kernel $K = K(x,y)$ given by\n",
    "\n",
    "$K(x,y) = \\sum_{k=1}^N \\lambda_k\\phi_k(x)\\overline{\\phi_k(y)}$\n",
    "\n",
    "To approximate this spectral decomposition, we set $\\phi_k(x)\\overline{\\phi_k(y)} \\approx e^{2\\pi i k(x-y)}$, the Fourier basis function, and $\\lambda_k \\approx \\varphi(k)$, the corresponding Fourier coefficients. Thereby we now give kernel $K=K(x,y)$ by\n",
    "\n",
    "$\n",
    "K(x,y) = \\sum_{k=1}^N \\varphi(k)e^{2\\pi i k(x-y)}\n",
    "$\n",
    "\n",
    "where the Fourier coefficient $\\varphi(k)$ is given by\n",
    "\n",
    "$\n",
    "\\varphi(k) =  e^{-2\\pi^2 k^{\\intercal}\\Sigma k}.\n",
    "$\n",
    "\n",
    "and the Fourier basis can be written as\n",
    "$e^{2\\pi i kx}e^{-2\\pi i ky}$.\n",
    "\n",
    "Therefore, the orthonormal functions are approximated by\n",
    "$\\phi_k(x) \\approx e^{2\\pi i kx}$\n",
    "\n",
    "Choose the parameter $N$ in the next step. This will be the number of steps in the process."
   ]
  },
  {
   "cell_type": "code",
   "execution_count": 154,
   "id": "45cc5889",
   "metadata": {},
   "outputs": [
    {
     "data": {
      "text/plain": [
       "1.372204279691985e-82"
      ]
     },
     "execution_count": 154,
     "metadata": {},
     "output_type": "execute_result"
    }
   ],
   "source": [
    "import numpy as np\n",
    "import numpy.random as rnd\n",
    "import numpy.linalg as la\n",
    "import math\n",
    "\n",
    "from mpmath import nsum, exp, inf\n",
    "\n",
    "#infinite sum for N????\n",
    "N = nsum(lambda x: rnd.binomial(100,.5), [1, inf])\n",
    "N = round(N)\n",
    "\n",
    "# N = 1000\n",
    "lst = [i for i in range(N)]\n",
    "k_vec = np.array(lst).reshape((N,1))\n",
    "k_vec_T = np.transpose(k_vec)\n",
    "\n",
    "def coeff(Sigma):\n",
    "    coeff = np.exp(-2*(np.pi**2)*k_vec_T.dot(Sigma).dot(k_vec))\n",
    "    return coeff\n",
    "\n",
    "#ground truth???\n",
    "Sigma_test = rnd.random((N,N))\n",
    "coeff = coeff(Sigma_test)\n",
    "\n",
    "def phi(k,x):\n",
    "    i = -1**2\n",
    "    function = np.exp(2*np.pi*i*k*x)\n",
    "    return function\n",
    "\n",
    "phi(10,3)\n",
    "\n",
    "##testtest\n",
    "## test2222"
   ]
  },
  {
   "cell_type": "code",
   "execution_count": null,
   "id": "b52e21e8",
   "metadata": {},
   "outputs": [],
   "source": []
  }
 ],
 "metadata": {
  "kernelspec": {
   "display_name": "Python 3",
   "language": "python",
   "name": "python3"
  },
  "language_info": {
   "codemirror_mode": {
    "name": "ipython",
    "version": 3
   },
   "file_extension": ".py",
   "mimetype": "text/x-python",
   "name": "python",
   "nbconvert_exporter": "python",
   "pygments_lexer": "ipython3",
   "version": "3.8.8"
  }
 },
 "nbformat": 4,
 "nbformat_minor": 5
}
